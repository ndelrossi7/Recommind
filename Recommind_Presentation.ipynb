{
 "cells": [
  {
   "cell_type": "markdown",
   "metadata": {},
   "source": [
    "# Recommind \n",
    "\n",
    "I have created a content-based recommendation engine to match patients with mental health practitioners that best suit their needs. \n",
    "\n",
    "Below I will use cosine similarity as our distance metric and will sort the top match results by our similarity metric and then distance from the patient."
   ]
  },
  {
   "cell_type": "code",
   "execution_count": 65,
   "metadata": {},
   "outputs": [],
   "source": [
    "import functions as f\n",
    "import seaborn as sns\n",
    "import matplotlib.pyplot as plt"
   ]
  },
  {
   "cell_type": "code",
   "execution_count": 12,
   "metadata": {},
   "outputs": [],
   "source": [
    "# instantiating the class\n",
    "r = f.Recommendation('vectorized', 'response', 'zipsdf', 'gender', 'new_patient', 'need_ins', 'langs', 'specs', 'ins_s', '_id', 'zipcode', 'rec_input', 'n')\n",
    "\n",
    "df = f.vectorized"
   ]
  },
  {
   "cell_type": "markdown",
   "metadata": {},
   "source": [
    "## Exploratory Data Analysis\n",
    "\n",
    "Before we get started with our algorithm, let's take a look at our practitioners. "
   ]
  },
  {
   "cell_type": "markdown",
   "metadata": {},
   "source": [
    "### Below we can see our breakdown of gender"
   ]
  },
  {
   "cell_type": "code",
   "execution_count": 76,
   "metadata": {
    "scrolled": true
   },
   "outputs": [
    {
     "data": {
      "text/plain": [
       "[[Text(0, 0, 'Male'), Text(0, 0, 'Female')]]"
      ]
     },
     "execution_count": 76,
     "metadata": {},
     "output_type": "execute_result"
    },
    {
     "data": {
      "image/png": "[encoded data removed]",
      "text/plain": [
       "<Figure size 432x288 with 1 Axes>"
      ]
     },
     "metadata": {},
     "output_type": "display_data"
    }
   ],
   "source": [
    "fig, ax = plt.subplots()\n",
    "sns.set(style='dark', palette='deep')\n",
    "sns.countplot(x='Gender', data=df)\n",
    "ax.set_title(\"Distribution of Practitioners' Gender\")\n",
    "ax.set(xticklabels=['Male', 'Female'])"
   ]
  },
  {
   "cell_type": "markdown",
   "metadata": {},
   "source": [
    "### Let's do a practice run for a proof of concept.\n",
    "Below I have created sample variables for a \"user.\""
   ]
  },
  {
   "cell_type": "code",
   "execution_count": 28,
   "metadata": {
    "scrolled": true
   },
   "outputs": [],
   "source": [
    "gender = 1 \n",
    "# user would like a female practitioner\n",
    "new_patient = True\n",
    "# user is a new patient\n",
    "need_insurance = True\n",
    "# user needs insurance coverage\n",
    "language = ['English']\n",
    "# user speaks English\n",
    "spec = ['Psychiatry']\n",
    "# user would like a psychiatrist\n",
    "insurance = ['medicare-medicare']\n",
    "# user's insurance is cigna-cignahmo"
   ]
  },
  {
   "cell_type": "markdown",
   "metadata": {},
   "source": [
    "Below, we'll format our user input for our algorithm."
   ]
  },
  {
   "cell_type": "code",
   "execution_count": 29,
   "metadata": {},
   "outputs": [
    {
     "data": {
      "text/html": [
       "<div>\n",
       "<style scoped>\n",
       "    .dataframe tbody tr th:only-of-type {\n",
       "        vertical-align: middle;\n",
       "    }\n",
       "\n",
       "    .dataframe tbody tr th {\n",
       "        vertical-align: top;\n",
       "    }\n",
       "\n",
       "    .dataframe thead th {\n",
       "        text-align: right;\n",
       "    }\n",
       "</style>\n",
       "<table border=\"1\" class=\"dataframe\">\n",
       "  <thead>\n",
       "    <tr style=\"text-align: right;\">\n",
       "      <th></th>\n",
       "      <th>Gender</th>\n",
       "      <th>New_Patients</th>\n",
       "      <th>num_lang</th>\n",
       "      <th>insurance</th>\n",
       "      <th>Addiction Medicine</th>\n",
       "      <th>Addiction Psychiatry</th>\n",
       "      <th>Child &amp; Adolescent Psychiatry</th>\n",
       "      <th>Chiropractic Neurology</th>\n",
       "      <th>Clinical Neurophysiology</th>\n",
       "      <th>Clinical Psychology</th>\n",
       "      <th>...</th>\n",
       "      <th>Gujarati</th>\n",
       "      <th>Hebrew</th>\n",
       "      <th>Hindi</th>\n",
       "      <th>Korean</th>\n",
       "      <th>Polish</th>\n",
       "      <th>Portuguese</th>\n",
       "      <th>Russian</th>\n",
       "      <th>Slovak</th>\n",
       "      <th>Spanish</th>\n",
       "      <th>Urdu</th>\n",
       "    </tr>\n",
       "  </thead>\n",
       "  <tbody>\n",
       "    <tr>\n",
       "      <th>0</th>\n",
       "      <td>1</td>\n",
       "      <td>1</td>\n",
       "      <td>1</td>\n",
       "      <td>1</td>\n",
       "      <td>0</td>\n",
       "      <td>0</td>\n",
       "      <td>0</td>\n",
       "      <td>0</td>\n",
       "      <td>0</td>\n",
       "      <td>0</td>\n",
       "      <td>...</td>\n",
       "      <td>0</td>\n",
       "      <td>0</td>\n",
       "      <td>0</td>\n",
       "      <td>0</td>\n",
       "      <td>0</td>\n",
       "      <td>0</td>\n",
       "      <td>0</td>\n",
       "      <td>0</td>\n",
       "      <td>0</td>\n",
       "      <td>0</td>\n",
       "    </tr>\n",
       "  </tbody>\n",
       "</table>\n",
       "<p>1 rows × 177 columns</p>\n",
       "</div>"
      ],
      "text/plain": [
       "   Gender  New_Patients  num_lang  insurance  Addiction Medicine  \\\n",
       "0       1             1         1          1                   0   \n",
       "\n",
       "   Addiction Psychiatry  Child & Adolescent Psychiatry  \\\n",
       "0                     0                              0   \n",
       "\n",
       "   Chiropractic Neurology  Clinical Neurophysiology  Clinical Psychology  ...  \\\n",
       "0                       0                         0                    0  ...   \n",
       "\n",
       "   Gujarati  Hebrew  Hindi  Korean  Polish  Portuguese  Russian  Slovak  \\\n",
       "0         0       0      0       0       0           0        0       0   \n",
       "\n",
       "   Spanish  Urdu  \n",
       "0        0     0  \n",
       "\n",
       "[1 rows x 177 columns]"
      ]
     },
     "execution_count": 29,
     "metadata": {},
     "output_type": "execute_result"
    }
   ],
   "source": [
    "sample = r.rec_input(gender, new_patient, need_insurance, language, spec, insurance)\n",
    "sample"
   ]
  },
  {
   "cell_type": "markdown",
   "metadata": {},
   "source": [
    "### Now that we have our vectorized user data, let's run our cosine similarity! \n",
    "Let's generate the top 5 matches closest to our zip code of 11218 and see our top match."
   ]
  },
  {
   "cell_type": "code",
   "execution_count": 31,
   "metadata": {},
   "outputs": [
    {
     "data": {
      "text/plain": [
       "['Name: Hayley Cort, MD',\n",
       " 'Address: 1651 3rd Ave New York, NY 10128',\n",
       " 'Gender: Female',\n",
       " 'Language(s): English',\n",
       " 'Specialty/ies: Psychiatry',\n",
       " 'Bio: Dr. Hayley Cort, MD practices medicine at New york, New York and specializes in psychiatry.  Dr. Cort is licensed to see patients in New York.  In addition to having active medical licenses, Dr. Cort has passed an automated background check which looked at elements including medical license status and malpractice screening (no history found).',\n",
       " 'Insurances Accepted: medicare-medicare']"
      ]
     },
     "execution_count": 31,
     "metadata": {},
     "output_type": "execute_result"
    }
   ],
   "source": [
    "recs = r.cos_sim(f.vectorized, sample, 5, '11218')\n",
    "recs[0]"
   ]
  }
 ],
 "metadata": {
  "kernelspec": {
   "display_name": "Python 3",
   "language": "python",
   "name": "python3"
  },
  "language_info": {
   "codemirror_mode": {
    "name": "ipython",
    "version": 3
   },
   "file_extension": ".py",
   "mimetype": "text/x-python",
   "name": "python",
   "nbconvert_exporter": "python",
   "pygments_lexer": "ipython3",
   "version": "3.7.3"
  }
 },
 "nbformat": 4,
 "nbformat_minor": 2
}
